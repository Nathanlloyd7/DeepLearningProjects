{
  "nbformat": 4,
  "nbformat_minor": 0,
  "metadata": {
    "colab": {
      "name": "MNIST(TensorFlow & Keras)",
      "provenance": [],
      "collapsed_sections": []
    },
    "kernelspec": {
      "name": "python3",
      "display_name": "Python 3"
    }
  },
  "cells": [
    {
      "cell_type": "markdown",
      "metadata": {
        "id": "oDbYwMHSt8ED"
      },
      "source": [
        "# MNIST \r\n",
        "I have been watching the 3 Blue 1 brown videos on Deep learning and its helped by intuition of the inner workings of a NN. \r\n",
        "https://www.youtube.com/watch?v=aircAruvnKk&ab_channel=3Blue1Brown\r\n",
        "\r\n",
        "Wanted to give the MNIST dataset a try.\r\n",
        "\r\n",
        "\r\n",
        "Using sentdex as an outline for TF& Keras\r\n",
        "https://www.youtube.com/watch?v=wQ8BIBpya2k&ab_channel=sentdex\r\n"
      ]
    },
    {
      "cell_type": "code",
      "metadata": {
        "id": "hgSlvzOqtMUd"
      },
      "source": [
        "import tensorflow as tf\r\n",
        "import numpy  as np\r\n",
        "import pandas as pd\r\n",
        "import matplotlib.pyplot as plt\r\n",
        "mnist = tf.keras.datasets.mnist"
      ],
      "execution_count": null,
      "outputs": []
    },
    {
      "cell_type": "code",
      "metadata": {
        "id": "HdNV3ihUtdYM"
      },
      "source": [
        "(x_train, y_train), (x_test, y_test) = mnist.load_data()"
      ],
      "execution_count": null,
      "outputs": []
    },
    {
      "cell_type": "code",
      "metadata": {
        "colab": {
          "base_uri": "https://localhost:8080/",
          "height": 265
        },
        "id": "BuR_A8kktjUk",
        "outputId": "4074f643-b22a-43f3-9378-4fb82652a521"
      },
      "source": [
        "plt.imshow(x_train[0], cmap = plt.cm.binary) #original images are w/b/gs\r\n",
        "plt.show()"
      ],
      "execution_count": null,
      "outputs": [
        {
          "output_type": "display_data",
          "data": {
            "image/png": "[encoded data removed]",
            "text/plain": [
              "<Figure size 432x288 with 1 Axes>"
            ]
          },
          "metadata": {
            "tags": [],
            "needs_background": "light"
          }
        }
      ]
    },
    {
      "cell_type": "markdown",
      "metadata": {
        "id": "hog1Qa1fxABs"
      },
      "source": [
        "# EZ Evaluate "
      ]
    },
    {
      "cell_type": "code",
      "metadata": {
        "id": "gfJny45ZxO7B"
      },
      "source": [
        "model_track = pd.DataFrame(columns=['Type', 'ID', \"Accuracy\", \"Loss\"])\r\n",
        "# Method to append models classification report into a DF:\r\n",
        "def save_models(m_type, m_ID, model_track):\r\n",
        "    model_track_update = model_track.append({\r\n",
        "        \"Type\":  m_type,\r\n",
        "        \"ID\": m_ID,\r\n",
        "        \"Accuracy\": test_acc, \r\n",
        "        \"Loss\": test_loss, \r\n",
        "    }, ignore_index=True)\r\n",
        "    return model_track_update"
      ],
      "execution_count": null,
      "outputs": []
    },
    {
      "cell_type": "markdown",
      "metadata": {
        "id": "GBIxFU6eu5Ne"
      },
      "source": [
        "## Input"
      ]
    },
    {
      "cell_type": "markdown",
      "metadata": {
        "id": "Ic1GZnJvu6WC"
      },
      "source": [
        "**Hidden and output with relu**\r\n"
      ]
    },
    {
      "cell_type": "code",
      "metadata": {
        "colab": {
          "base_uri": "https://localhost:8080/"
        },
        "id": "zZddativu7I2",
        "outputId": "24fab08e-51cc-44fb-cfe4-dc33a5a47633"
      },
      "source": [
        "model = tf.keras.models.Sequential()\r\n",
        "model.add(tf.keras.layers.Flatten()) #flattens 28*28 \r\n",
        "model.add(tf.keras.layers.Dense(128, activation=tf.nn.relu)) #node count and activation#\r\n",
        "model.add(tf.keras.layers.Dense(128, activation=tf.nn.relu)) #node count and activation\r\n",
        "model.add(tf.keras.layers.Dense(10, activation=tf.nn.softmax)) #node count and activation\r\n",
        "model.compile(optimizer='adam',loss='sparse_categorical_crossentropy',metrics=['accuracy'])\r\n",
        "model.fit(x_train, y_train, epochs=3)"
      ],
      "execution_count": null,
      "outputs": [
        {
          "output_type": "stream",
          "text": [
            "Epoch 1/3\n",
            "1875/1875 [==============================] - 4s 2ms/step - loss: 4.2005 - accuracy: 0.8198\n",
            "Epoch 2/3\n",
            "1875/1875 [==============================] - 4s 2ms/step - loss: 0.3226 - accuracy: 0.9285\n",
            "Epoch 3/3\n",
            "1875/1875 [==============================] - 4s 2ms/step - loss: 0.2187 - accuracy: 0.9443\n"
          ],
          "name": "stdout"
        },
        {
          "output_type": "execute_result",
          "data": {
            "text/plain": [
              "<tensorflow.python.keras.callbacks.History at 0x7f3509353080>"
            ]
          },
          "metadata": {
            "tags": []
          },
          "execution_count": 5
        }
      ]
    },
    {
      "cell_type": "code",
      "metadata": {
        "colab": {
          "base_uri": "https://localhost:8080/"
        },
        "id": "kzaXa5yFwlt6",
        "outputId": "aab13499-32e0-4984-c4a5-1f9526d2cb4c"
      },
      "source": [
        "test_loss, test_acc = model.evaluate(x_test, y_test)\r\n",
        "model_track = save_models(\"TF:NN\", \"relu\", model_track)"
      ],
      "execution_count": null,
      "outputs": [
        {
          "output_type": "stream",
          "text": [
            "313/313 [==============================] - 1s 1ms/step - loss: 0.2036 - accuracy: 0.9469\n"
          ],
          "name": "stdout"
        }
      ]
    },
    {
      "cell_type": "code",
      "metadata": {
        "colab": {
          "base_uri": "https://localhost:8080/"
        },
        "id": "5EjzsYhzxvLJ",
        "outputId": "ec2fabd8-9528-4ca0-ae3d-ec12cc3095f4"
      },
      "source": [
        "model = tf.keras.models.Sequential()\r\n",
        "model.add(tf.keras.layers.Flatten()) #flattens 28*28 \r\n",
        "model.add(tf.keras.layers.Dense(128, activation=tf.nn.sigmoid)) #node count and activation (sigmoid was replaced by relu)\r\n",
        "model.add(tf.keras.layers.Dense(128, activation=tf.nn.sigmoid)) #node count and activation\r\n",
        "model.add(tf.keras.layers.Dense(10, activation=tf.nn.softmax)) #node count and activation\r\n",
        "model.compile(optimizer='adam',loss='sparse_categorical_crossentropy',metrics=['accuracy'])\r\n",
        "model.fit(x_train, y_train, epochs=3)"
      ],
      "execution_count": null,
      "outputs": [
        {
          "output_type": "stream",
          "text": [
            "Epoch 1/3\n",
            "1875/1875 [==============================] - 4s 2ms/step - loss: 0.8240 - accuracy: 0.7838\n",
            "Epoch 2/3\n",
            "1875/1875 [==============================] - 4s 2ms/step - loss: 0.3687 - accuracy: 0.8862\n",
            "Epoch 3/3\n",
            "1875/1875 [==============================] - 4s 2ms/step - loss: 0.3422 - accuracy: 0.8942\n"
          ],
          "name": "stdout"
        },
        {
          "output_type": "execute_result",
          "data": {
            "text/plain": [
              "<tensorflow.python.keras.callbacks.History at 0x7f34c7c105c0>"
            ]
          },
          "metadata": {
            "tags": []
          },
          "execution_count": 7
        }
      ]
    },
    {
      "cell_type": "code",
      "metadata": {
        "colab": {
          "base_uri": "https://localhost:8080/"
        },
        "id": "pKp7_OYCwCbS",
        "outputId": "fc016785-27ac-4067-fbdb-4f8a5df24692"
      },
      "source": [
        "test_loss, test_acc = model.evaluate(x_test, y_test)\r\n",
        "model_track = save_models(\"TF:NN\", \"sigmoid\", model_track)"
      ],
      "execution_count": null,
      "outputs": [
        {
          "output_type": "stream",
          "text": [
            "313/313 [==============================] - 0s 1ms/step - loss: 0.2880 - accuracy: 0.9113\n"
          ],
          "name": "stdout"
        }
      ]
    },
    {
      "cell_type": "markdown",
      "metadata": {
        "id": "3vs9Cx-pyw_p"
      },
      "source": [
        "## Normalized"
      ]
    },
    {
      "cell_type": "code",
      "metadata": {
        "id": "VWKzXUEXuliX"
      },
      "source": [
        "x_train = tf.keras.utils.normalize(x_train, axis=1) #changes values to be between 0-1. \r\n",
        "x_test = tf.keras.utils.normalize(x_test, axis=1)"
      ],
      "execution_count": null,
      "outputs": []
    },
    {
      "cell_type": "code",
      "metadata": {
        "colab": {
          "base_uri": "https://localhost:8080/"
        },
        "id": "n7V3lLAAyqz1",
        "outputId": "db51a8f3-079b-4991-a734-dda0f6ca129f"
      },
      "source": [
        "model = tf.keras.models.Sequential()\r\n",
        "model.add(tf.keras.layers.Flatten()) #flattens 28*28 \r\n",
        "model.add(tf.keras.layers.Dense(128, activation=tf.nn.relu)) #node count and activation#\r\n",
        "model.add(tf.keras.layers.Dense(128, activation=tf.nn.relu)) #node count and activation\r\n",
        "model.add(tf.keras.layers.Dense(10, activation=tf.nn.softmax)) #node count and activation\r\n",
        "model.compile(optimizer='adam',loss='sparse_categorical_crossentropy',metrics=['accuracy'])\r\n",
        "model.fit(x_train, y_train, epochs=3)"
      ],
      "execution_count": null,
      "outputs": [
        {
          "output_type": "stream",
          "text": [
            "Epoch 1/3\n",
            "1875/1875 [==============================] - 4s 2ms/step - loss: 0.4759 - accuracy: 0.8644\n",
            "Epoch 2/3\n",
            "1875/1875 [==============================] - 4s 2ms/step - loss: 0.1123 - accuracy: 0.9656\n",
            "Epoch 3/3\n",
            "1875/1875 [==============================] - 4s 2ms/step - loss: 0.0727 - accuracy: 0.9778\n"
          ],
          "name": "stdout"
        },
        {
          "output_type": "execute_result",
          "data": {
            "text/plain": [
              "<tensorflow.python.keras.callbacks.History at 0x7f34c6acc128>"
            ]
          },
          "metadata": {
            "tags": []
          },
          "execution_count": 10
        }
      ]
    },
    {
      "cell_type": "code",
      "metadata": {
        "colab": {
          "base_uri": "https://localhost:8080/"
        },
        "id": "nxNbin5iyscH",
        "outputId": "b9f26aff-d3cf-44b8-92de-a7ac9c2644d6"
      },
      "source": [
        "test_loss, test_acc = model.evaluate(x_test, y_test)\r\n",
        "model_track = save_models(\"TF:NN\", \"Norm&relu\", model_track)"
      ],
      "execution_count": null,
      "outputs": [
        {
          "output_type": "stream",
          "text": [
            "313/313 [==============================] - 0s 1ms/step - loss: 0.0930 - accuracy: 0.9705\n"
          ],
          "name": "stdout"
        }
      ]
    },
    {
      "cell_type": "code",
      "metadata": {
        "colab": {
          "base_uri": "https://localhost:8080/"
        },
        "id": "gy2EZy0wysjA",
        "outputId": "bea96891-c65d-423c-ea51-414d2f3064a7"
      },
      "source": [
        "model = tf.keras.models.Sequential()\r\n",
        "model.add(tf.keras.layers.Flatten()) #flattens 28*28 \r\n",
        "model.add(tf.keras.layers.Dense(128, activation=tf.nn.sigmoid)) #node count and activation (sigmoid was replaced by relu)\r\n",
        "model.add(tf.keras.layers.Dense(128, activation=tf.nn.sigmoid)) #node count and activation\r\n",
        "model.add(tf.keras.layers.Dense(10, activation=tf.nn.softmax)) #node count and activation\r\n",
        "model.compile(optimizer='adam',loss='sparse_categorical_crossentropy',metrics=['accuracy'])\r\n",
        "model.fit(x_train, y_train, epochs=3)"
      ],
      "execution_count": null,
      "outputs": [
        {
          "output_type": "stream",
          "text": [
            "Epoch 1/3\n",
            "1875/1875 [==============================] - 4s 2ms/step - loss: 0.9456 - accuracy: 0.7351\n",
            "Epoch 2/3\n",
            "1875/1875 [==============================] - 4s 2ms/step - loss: 0.2390 - accuracy: 0.9282\n",
            "Epoch 3/3\n",
            "1875/1875 [==============================] - 4s 2ms/step - loss: 0.1735 - accuracy: 0.9484\n"
          ],
          "name": "stdout"
        },
        {
          "output_type": "execute_result",
          "data": {
            "text/plain": [
              "<tensorflow.python.keras.callbacks.History at 0x7f34c599d518>"
            ]
          },
          "metadata": {
            "tags": []
          },
          "execution_count": 12
        }
      ]
    },
    {
      "cell_type": "code",
      "metadata": {
        "colab": {
          "base_uri": "https://localhost:8080/"
        },
        "id": "zExywMqOysrr",
        "outputId": "de64107b-5cd7-4f87-ccf2-0e89f0c38dcd"
      },
      "source": [
        "test_loss, test_acc = model.evaluate(x_test, y_test)\r\n",
        "model_track = save_models(\"TF:NN\", \"Norm&sigmoid\", model_track)"
      ],
      "execution_count": null,
      "outputs": [
        {
          "output_type": "stream",
          "text": [
            "313/313 [==============================] - 0s 1ms/step - loss: 0.1484 - accuracy: 0.9547\n"
          ],
          "name": "stdout"
        }
      ]
    },
    {
      "cell_type": "code",
      "metadata": {
        "colab": {
          "base_uri": "https://localhost:8080/",
          "height": 162
        },
        "id": "Hik9G1K2y6zJ",
        "outputId": "c33cd1e8-c5e6-4e58-f0c9-88dffd8021ef"
      },
      "source": [
        "model_track"
      ],
      "execution_count": null,
      "outputs": [
        {
          "output_type": "execute_result",
          "data": {
            "text/html": [
              "<div>\n",
              "<style scoped>\n",
              "    .dataframe tbody tr th:only-of-type {\n",
              "        vertical-align: middle;\n",
              "    }\n",
              "\n",
              "    .dataframe tbody tr th {\n",
              "        vertical-align: top;\n",
              "    }\n",
              "\n",
              "    .dataframe thead th {\n",
              "        text-align: right;\n",
              "    }\n",
              "</style>\n",
              "<table border=\"1\" class=\"dataframe\">\n",
              "  <thead>\n",
              "    <tr style=\"text-align: right;\">\n",
              "      <th></th>\n",
              "      <th>Type</th>\n",
              "      <th>ID</th>\n",
              "      <th>Accuracy</th>\n",
              "      <th>Loss</th>\n",
              "    </tr>\n",
              "  </thead>\n",
              "  <tbody>\n",
              "    <tr>\n",
              "      <th>0</th>\n",
              "      <td>TF:NN</td>\n",
              "      <td>relu</td>\n",
              "      <td>0.9469</td>\n",
              "      <td>0.203608</td>\n",
              "    </tr>\n",
              "    <tr>\n",
              "      <th>1</th>\n",
              "      <td>TF:NN</td>\n",
              "      <td>sigmoid</td>\n",
              "      <td>0.9113</td>\n",
              "      <td>0.287991</td>\n",
              "    </tr>\n",
              "    <tr>\n",
              "      <th>2</th>\n",
              "      <td>TF:NN</td>\n",
              "      <td>Norm&amp;relu</td>\n",
              "      <td>0.9705</td>\n",
              "      <td>0.093046</td>\n",
              "    </tr>\n",
              "    <tr>\n",
              "      <th>3</th>\n",
              "      <td>TF:NN</td>\n",
              "      <td>Norm&amp;sigmoid</td>\n",
              "      <td>0.9547</td>\n",
              "      <td>0.148379</td>\n",
              "    </tr>\n",
              "  </tbody>\n",
              "</table>\n",
              "</div>"
            ],
            "text/plain": [
              "    Type            ID  Accuracy      Loss\n",
              "0  TF:NN          relu    0.9469  0.203608\n",
              "1  TF:NN       sigmoid    0.9113  0.287991\n",
              "2  TF:NN     Norm&relu    0.9705  0.093046\n",
              "3  TF:NN  Norm&sigmoid    0.9547  0.148379"
            ]
          },
          "metadata": {
            "tags": []
          },
          "execution_count": 14
        }
      ]
    },
    {
      "cell_type": "markdown",
      "metadata": {
        "id": "al5CDp1bz7vg"
      },
      "source": [
        "# Review\r\n",
        "Normalization improves both loss and accuracy, relu performs better than sigmoid"
      ]
    },
    {
      "cell_type": "code",
      "metadata": {
        "colab": {
          "base_uri": "https://localhost:8080/"
        },
        "id": "E3NlTOGW0GDY",
        "outputId": "e4791559-dcd6-443b-a5d9-b3949fac8062"
      },
      "source": [
        "model = tf.keras.models.Sequential()\r\n",
        "model.add(tf.keras.layers.Flatten()) #flattens 28*28 \r\n",
        "model.add(tf.keras.layers.Dense(128, activation=tf.nn.relu)) #node count and activation#\r\n",
        "model.add(tf.keras.layers.Dense(128, activation=tf.nn.relu)) #node count and activation\r\n",
        "model.add(tf.keras.layers.Dense(10, activation=tf.nn.softmax)) #node count and activation\r\n",
        "model.compile(optimizer='adam',loss='sparse_categorical_crossentropy',metrics=['accuracy'])\r\n",
        "model.fit(x_train, y_train, epochs=3)"
      ],
      "execution_count": null,
      "outputs": [
        {
          "output_type": "stream",
          "text": [
            "Epoch 1/3\n",
            "1875/1875 [==============================] - 4s 2ms/step - loss: 0.4699 - accuracy: 0.8649\n",
            "Epoch 2/3\n",
            "1875/1875 [==============================] - 4s 2ms/step - loss: 0.1082 - accuracy: 0.9662\n",
            "Epoch 3/3\n",
            "1875/1875 [==============================] - 4s 2ms/step - loss: 0.0709 - accuracy: 0.9772\n"
          ],
          "name": "stdout"
        },
        {
          "output_type": "execute_result",
          "data": {
            "text/plain": [
              "<tensorflow.python.keras.callbacks.History at 0x7f34c4802470>"
            ]
          },
          "metadata": {
            "tags": []
          },
          "execution_count": 15
        }
      ]
    },
    {
      "cell_type": "code",
      "metadata": {
        "colab": {
          "base_uri": "https://localhost:8080/"
        },
        "id": "h4BcTa-f0Phi",
        "outputId": "96daf019-4d54-49b0-d244-58413ed860dc"
      },
      "source": [
        "model.save('MNIST_TF_test.model')"
      ],
      "execution_count": null,
      "outputs": [
        {
          "output_type": "stream",
          "text": [
            "INFO:tensorflow:Assets written to: MNIST_TF_test.model/assets\n"
          ],
          "name": "stdout"
        }
      ]
    },
    {
      "cell_type": "code",
      "metadata": {
        "colab": {
          "base_uri": "https://localhost:8080/"
        },
        "id": "SajWpreM0YoI",
        "outputId": "5a0d1ffc-d634-40ca-d268-3565aab8491e"
      },
      "source": [
        "predictions = model.predict([x_test])"
      ],
      "execution_count": null,
      "outputs": [
        {
          "output_type": "stream",
          "text": [
            "WARNING:tensorflow:Layers in a Sequential model should only have a single input tensor, but we receive a <class 'tuple'> input: (<tf.Tensor 'IteratorGetNext:0' shape=(None, 28, 28) dtype=float32>,)\n",
            "Consider rewriting this model with the Functional API.\n"
          ],
          "name": "stdout"
        }
      ]
    },
    {
      "cell_type": "code",
      "metadata": {
        "colab": {
          "base_uri": "https://localhost:8080/"
        },
        "id": "bg6JVrFI0o3X",
        "outputId": "63083971-d37d-4203-8ba7-10273e42b035"
      },
      "source": [
        "print(np.argmax(predictions[0]))"
      ],
      "execution_count": null,
      "outputs": [
        {
          "output_type": "stream",
          "text": [
            "7\n"
          ],
          "name": "stdout"
        }
      ]
    },
    {
      "cell_type": "code",
      "metadata": {
        "colab": {
          "base_uri": "https://localhost:8080/",
          "height": 265
        },
        "id": "S2oPe5zT0trP",
        "outputId": "f8711810-0bf8-4ee0-8503-c9c7bf1aa405"
      },
      "source": [
        "plt.imshow(x_test[0])\r\n",
        "plt.show()"
      ],
      "execution_count": null,
      "outputs": [
        {
          "output_type": "display_data",
          "data": {
            "image/png": "[encoded data removed]",
            "text/plain": [
              "<Figure size 432x288 with 1 Axes>"
            ]
          },
          "metadata": {
            "tags": [],
            "needs_background": "light"
          }
        }
      ]
    }
  ]
}